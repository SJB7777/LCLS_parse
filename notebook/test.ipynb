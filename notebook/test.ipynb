{
 "cells": [
  {
   "cell_type": "code",
   "execution_count": 1,
   "id": "cc637bb2",
   "metadata": {},
   "outputs": [],
   "source": [
    "%reload_ext autoreload\n",
    "%autoreload 2\n",
    "\n",
    "import sys\n",
    "if \"..\" not in sys.path:\n",
    "    sys.path.append(\"..\")"
   ]
  },
  {
   "cell_type": "code",
   "execution_count": 2,
   "id": "28e3c2f3",
   "metadata": {},
   "outputs": [],
   "source": [
    "from pathlib import Path\n",
    "\n",
    "import h5py\n",
    "\n",
    "from LCLS_parse import get_run_files, h5_tree\n",
    "\n",
    "root: Path = Path(r\"Y:\\241016_LCLS\\cube\")"
   ]
  },
  {
   "cell_type": "code",
   "execution_count": 4,
   "id": "1d577e97",
   "metadata": {},
   "outputs": [
    {
     "name": "stdout",
     "output_type": "stream",
     "text": [
      "<class 'h5py._hl.files.File'>\n",
      "├── binVar (104,)\n",
      "├── binVar_bins (104,)\n",
      "├── cubeSelection (1,)\n",
      "├── delay (104,)\n",
      "├── ipm4__sum (104,)\n",
      "├── ipm5__sum (104,)\n",
      "├── jungfrau512k_cfg\n",
      "│   ├── calib_mask (514, 1030)\n",
      "│   ├── gain (514, 1030)\n",
      "│   ├── ix (1, 512, 1024)\n",
      "│   ├── iy (1, 512, 1024)\n",
      "│   ├── mask (514, 1030)\n",
      "│   ├── ped (514, 1030)\n",
      "│   ├── rms (514, 1030)\n",
      "│   ├── x (1, 512, 1024)\n",
      "│   └── y (1, 512, 1024)\n",
      "├── jungfrau512k_data (104, 514, 1030)\n",
      "├── jungfrau512k_nEntries (104,)\n",
      "└── nEntries (104,)\n"
     ]
    }
   ],
   "source": [
    "run = 366\n",
    "files: list[Path] = get_run_files(run, root)\n",
    "file = files[0]\n",
    "with h5py.File(file) as f:\n",
    "    print(type(f))\n",
    "    h5_tree(f)"
   ]
  }
 ],
 "metadata": {
  "kernelspec": {
   "display_name": "LCLS_parse",
   "language": "python",
   "name": "python3"
  },
  "language_info": {
   "codemirror_mode": {
    "name": "ipython",
    "version": 3
   },
   "file_extension": ".py",
   "mimetype": "text/x-python",
   "name": "python",
   "nbconvert_exporter": "python",
   "pygments_lexer": "ipython3",
   "version": "3.13.3"
  }
 },
 "nbformat": 4,
 "nbformat_minor": 5
}
